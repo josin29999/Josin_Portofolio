{
  "nbformat": 4,
  "nbformat_minor": 0,
  "metadata": {
    "colab": {
      "name": "Mall_Customer_Segmentation.ipynb",
      "provenance": [],
      "collapsed_sections": [],
      "authorship_tag": "ABX9TyMLU0x7xtiy1v/zp261bD8u",
      "include_colab_link": true
    },
    "kernelspec": {
      "name": "python3",
      "display_name": "Python 3"
    },
    "language_info": {
      "name": "python"
    }
  },
  "cells": [
    {
      "cell_type": "markdown",
      "metadata": {
        "id": "view-in-github",
        "colab_type": "text"
      },
      "source": [
        "<a href=\"https://colab.research.google.com/github/josin29999/Josin_Portofolio/blob/main/Mall_Customer_Segmentation.ipynb\" target=\"_parent\"><img src=\"https://colab.research.google.com/assets/colab-badge.svg\" alt=\"Open In Colab\"/></a>"
      ]
    },
    {
      "cell_type": "markdown",
      "source": [
        "**Context**\n",
        "You own the mall and want to understand the customers like who can be easily converge [Target Customers] so that the sense can be given to marketing team and plan the strategy accordingly.\n",
        "\n",
        "**Who**\n",
        "For who:\n",
        "Marketing team\n",
        "From who:\n",
        "Me as data analyst intern that first come to present\n",
        "\n",
        "**What**\n",
        "\n",
        "Action:\n",
        "make plan marketing strategy\n",
        "- Show the different from gender\n",
        "- Show age group sum of spending\n",
        "- Show age group sum of income\n",
        "- Show the age group max spending\n",
        "- Show the age group min spending\n",
        "- Show the age group max income\n",
        "- Show the age group min income\n",
        "\n",
        "Mechanism:\n",
        "We make a document, that means we should have high detail and shoul answer many of question, but we haven't control (the audience have their control).\n",
        "\n",
        "Tone:\n",
        "Light a fire to drive action\n",
        "\n",
        "Tone\n",
        "\n",
        "**How**\n",
        "Understand customer who can be easily converge (target Customers)\n",
        "\n",
        "Big Idea:\n",
        "We found that the customer is spend aroud 50% from their income.\n",
        "We found that customer in twenty spend 50% more that thirty.\n",
        "\n",
        "StoryBoarding:\n"
      ],
      "metadata": {
        "id": "9njhqqvYrvUB"
      }
    },
    {
      "cell_type": "code",
      "execution_count": 1,
      "metadata": {
        "id": "utQVEGHWpZ8q",
        "colab": {
          "base_uri": "https://localhost:8080/"
        },
        "outputId": "da38068c-67f6-4b1a-8d72-33864a50a940"
      },
      "outputs": [
        {
          "output_type": "stream",
          "name": "stdout",
          "text": [
            "Looking in indexes: https://pypi.org/simple, https://us-python.pkg.dev/colab-wheels/public/simple/\n",
            "Collecting opendatasets\n",
            "  Downloading opendatasets-0.1.22-py3-none-any.whl (15 kB)\n",
            "Requirement already satisfied: kaggle in /usr/local/lib/python3.7/dist-packages (from opendatasets) (1.5.12)\n",
            "Requirement already satisfied: tqdm in /usr/local/lib/python3.7/dist-packages (from opendatasets) (4.64.0)\n",
            "Requirement already satisfied: click in /usr/local/lib/python3.7/dist-packages (from opendatasets) (7.1.2)\n",
            "Requirement already satisfied: python-slugify in /usr/local/lib/python3.7/dist-packages (from kaggle->opendatasets) (6.1.2)\n",
            "Requirement already satisfied: requests in /usr/local/lib/python3.7/dist-packages (from kaggle->opendatasets) (2.23.0)\n",
            "Requirement already satisfied: six>=1.10 in /usr/local/lib/python3.7/dist-packages (from kaggle->opendatasets) (1.15.0)\n",
            "Requirement already satisfied: certifi in /usr/local/lib/python3.7/dist-packages (from kaggle->opendatasets) (2022.6.15)\n",
            "Requirement already satisfied: python-dateutil in /usr/local/lib/python3.7/dist-packages (from kaggle->opendatasets) (2.8.2)\n",
            "Requirement already satisfied: urllib3 in /usr/local/lib/python3.7/dist-packages (from kaggle->opendatasets) (1.24.3)\n",
            "Requirement already satisfied: text-unidecode>=1.3 in /usr/local/lib/python3.7/dist-packages (from python-slugify->kaggle->opendatasets) (1.3)\n",
            "Requirement already satisfied: idna<3,>=2.5 in /usr/local/lib/python3.7/dist-packages (from requests->kaggle->opendatasets) (2.10)\n",
            "Requirement already satisfied: chardet<4,>=3.0.2 in /usr/local/lib/python3.7/dist-packages (from requests->kaggle->opendatasets) (3.0.4)\n",
            "Installing collected packages: opendatasets\n",
            "Successfully installed opendatasets-0.1.22\n"
          ]
        }
      ],
      "source": [
        "!pip install opendatasets"
      ]
    },
    {
      "cell_type": "code",
      "source": [
        "import opendatasets as od\n",
        "import os\n",
        "\n",
        "import pandas as pd\n",
        "import numpy as np\n",
        "import matplotlib.pyplot as plt\n",
        "import seaborn as sns"
      ],
      "metadata": {
        "id": "uGwcvYCiWP-C"
      },
      "execution_count": 2,
      "outputs": []
    },
    {
      "cell_type": "code",
      "source": [
        "url = 'https://www.kaggle.com/datasets/vjchoudhary7/customer-segmentation-tutorial-in-python'"
      ],
      "metadata": {
        "id": "9rVv96XNWWCZ"
      },
      "execution_count": 3,
      "outputs": []
    },
    {
      "cell_type": "code",
      "source": [
        "od.download(url)  
      ],
      "metadata": {
        "colab": {
          "base_uri": "https://localhost:8080/"
        },
        "id": "lCLYT_COWYnL",
        "outputId": "b444948b-599a-4be7-e672-518f3c44e558"
      },
      "execution_count": 4,
      "outputs": [
        {
          "output_type": "stream",
          "name": "stdout",
          "text": [
            "Please provide your Kaggle credentials to download this dataset. Learn more: http://bit.ly/kaggle-creds\n",
            "Your Kaggle username: josinsitinjak\n",
            "Your Kaggle Key: ··········\n",
            "Downloading customer-segmentation-tutorial-in-python.zip to ./customer-segmentation-tutorial-in-python\n"
          ]
        },
        {
          "output_type": "stream",
          "name": "stderr",
          "text": [
            "100%|██████████| 1.55k/1.55k [00:00<00:00, 698kB/s]"
          ]
        },
        {
          "output_type": "stream",
          "name": "stdout",
          "text": [
            "\n"
          ]
        },
        {
          "output_type": "stream",
          "name": "stderr",
          "text": [
            "\n"
          ]
        }
      ]
    },
    {
      "cell_type": "code",
      "source": [
        "data_dir = './customer-segmentation-tutorial-in-python'"
      ],
      "metadata": {
        "id": "Y7NfvdFFWvR7"
      },
      "execution_count": 5,
      "outputs": []
    },
    {
      "cell_type": "code",
      "source": [
        "os.listdir(data_dir)"
      ],
      "metadata": {
        "colab": {
          "base_uri": "https://localhost:8080/"
        },
        "id": "yqS3e07MW5uS",
        "outputId": "e72097af-6843-4c73-a3b6-f20231cadbd2"
      },
      "execution_count": 6,
      "outputs": [
        {
          "output_type": "execute_result",
          "data": {
            "text/plain": [
              "['Mall_Customers.csv']"
            ]
          },
          "metadata": {},
          "execution_count": 6
        }
      ]
    },
    {
      "cell_type": "code",
      "source": [
        "train_csv = data_dir + 'Mall_Customers.csv'"
      ],
      "metadata": {
        "id": "QLkC3IAdW8Pk"
      },
      "execution_count": 7,
      "outputs": []
    },
    {
      "cell_type": "code",
      "source": [
        "!pip install pandas "
      ],
      "metadata": {
        "colab": {
          "base_uri": "https://localhost:8080/"
        },
        "id": "pOadBMJfXlfn",
        "outputId": "ab4a4bd1-1ca1-46e9-863c-506804a09617"
      },
      "execution_count": 8,
      "outputs": [
        {
          "output_type": "stream",
          "name": "stdout",
          "text": [
            "Looking in indexes: https://pypi.org/simple, https://us-python.pkg.dev/colab-wheels/public/simple/\n",
            "Requirement already satisfied: pandas in /usr/local/lib/python3.7/dist-packages (1.3.5)\n",
            "Requirement already satisfied: python-dateutil>=2.7.3 in /usr/local/lib/python3.7/dist-packages (from pandas) (2.8.2)\n",
            "Requirement already satisfied: numpy>=1.17.3 in /usr/local/lib/python3.7/dist-packages (from pandas) (1.21.6)\n",
            "Requirement already satisfied: pytz>=2017.3 in /usr/local/lib/python3.7/dist-packages (from pandas) (2022.1)\n",
            "Requirement already satisfied: six>=1.5 in /usr/local/lib/python3.7/dist-packages (from python-dateutil>=2.7.3->pandas) (1.15.0)\n"
          ]
        }
      ]
    },
    {
      "cell_type": "code",
      "source": [
        "raw_df = pd.read_csv('/content/customer-segmentation-tutorial-in-python/Mall_Customers.csv')"
      ],
      "metadata": {
        "id": "1jRSWvsZXq4n"
      },
      "execution_count": 3,
      "outputs": []
    },
    {
      "cell_type": "code",
      "source": [
        "raw_df"
      ],
      "metadata": {
        "colab": {
          "base_uri": "https://localhost:8080/",
          "height": 424
        },
        "id": "77D0zJsRXtn3",
        "outputId": "ee4d9a7f-24fc-45ce-c7f6-c661e13c1961"
      },
      "execution_count": 4,
      "outputs": [
        {
          "output_type": "execute_result",
          "data": {
            "text/plain": [
              "     CustomerID  Gender  Age  Annual Income (k$)  Spending Score (1-100)\n",
              "0             1    Male   19                  15                      39\n",
              "1             2    Male   21                  15                      81\n",
              "2             3  Female   20                  16                       6\n",
              "3             4  Female   23                  16                      77\n",
              "4             5  Female   31                  17                      40\n",
              "..          ...     ...  ...                 ...                     ...\n",
              "195         196  Female   35                 120                      79\n",
              "196         197  Female   45                 126                      28\n",
              "197         198    Male   32                 126                      74\n",
              "198         199    Male   32                 137                      18\n",
              "199         200    Male   30                 137                      83\n",
              "\n",
              "[200 rows x 5 columns]"
            ],
            "text/html": [
              "\n",
              "  <div id=\"df-36f69734-79d9-49ac-97d3-206b74b4a15a\">\n",
              "    <div class=\"colab-df-container\">\n",
              "      <div>\n",
              "<style scoped>\n",
              "    .dataframe tbody tr th:only-of-type {\n",
              "        vertical-align: middle;\n",
              "    }\n",
              "\n",
              "    .dataframe tbody tr th {\n",
              "        vertical-align: top;\n",
              "    }\n",
              "\n",
              "    .dataframe thead th {\n",
              "        text-align: right;\n",
              "    }\n",
              "</style>\n",
              "<table border=\"1\" class=\"dataframe\">\n",
              "  <thead>\n",
              "    <tr style=\"text-align: right;\">\n",
              "      <th></th>\n",
              "      <th>CustomerID</th>\n",
              "      <th>Gender</th>\n",
              "      <th>Age</th>\n",
              "      <th>Annual Income (k$)</th>\n",
              "      <th>Spending Score (1-100)</th>\n",
              "    </tr>\n",
              "  </thead>\n",
              "  <tbody>\n",
              "    <tr>\n",
              "      <th>0</th>\n",
              "      <td>1</td>\n",
              "      <td>Male</td>\n",
              "      <td>19</td>\n",
              "      <td>15</td>\n",
              "      <td>39</td>\n",
              "    </tr>\n",
              "    <tr>\n",
              "      <th>1</th>\n",
              "      <td>2</td>\n",
              "      <td>Male</td>\n",
              "      <td>21</td>\n",
              "      <td>15</td>\n",
              "      <td>81</td>\n",
              "    </tr>\n",
              "    <tr>\n",
              "      <th>2</th>\n",
              "      <td>3</td>\n",
              "      <td>Female</td>\n",
              "      <td>20</td>\n",
              "      <td>16</td>\n",
              "      <td>6</td>\n",
              "    </tr>\n",
              "    <tr>\n",
              "      <th>3</th>\n",
              "      <td>4</td>\n",
              "      <td>Female</td>\n",
              "      <td>23</td>\n",
              "      <td>16</td>\n",
              "      <td>77</td>\n",
              "    </tr>\n",
              "    <tr>\n",
              "      <th>4</th>\n",
              "      <td>5</td>\n",
              "      <td>Female</td>\n",
              "      <td>31</td>\n",
              "      <td>17</td>\n",
              "      <td>40</td>\n",
              "    </tr>\n",
              "    <tr>\n",
              "      <th>...</th>\n",
              "      <td>...</td>\n",
              "      <td>...</td>\n",
              "      <td>...</td>\n",
              "      <td>...</td>\n",
              "      <td>...</td>\n",
              "    </tr>\n",
              "    <tr>\n",
              "      <th>195</th>\n",
              "      <td>196</td>\n",
              "      <td>Female</td>\n",
              "      <td>35</td>\n",
              "      <td>120</td>\n",
              "      <td>79</td>\n",
              "    </tr>\n",
              "    <tr>\n",
              "      <th>196</th>\n",
              "      <td>197</td>\n",
              "      <td>Female</td>\n",
              "      <td>45</td>\n",
              "      <td>126</td>\n",
              "      <td>28</td>\n",
              "    </tr>\n",
              "    <tr>\n",
              "      <th>197</th>\n",
              "      <td>198</td>\n",
              "      <td>Male</td>\n",
              "      <td>32</td>\n",
              "      <td>126</td>\n",
              "      <td>74</td>\n",
              "    </tr>\n",
              "    <tr>\n",
              "      <th>198</th>\n",
              "      <td>199</td>\n",
              "      <td>Male</td>\n",
              "      <td>32</td>\n",
              "      <td>137</td>\n",
              "      <td>18</td>\n",
              "    </tr>\n",
              "    <tr>\n",
              "      <th>199</th>\n",
              "      <td>200</td>\n",
              "      <td>Male</td>\n",
              "      <td>30</td>\n",
              "      <td>137</td>\n",
              "      <td>83</td>\n",
              "    </tr>\n",
              "  </tbody>\n",
              "</table>\n",
              "<p>200 rows × 5 columns</p>\n",
              "</div>\n",
              "      <button class=\"colab-df-convert\" onclick=\"convertToInteractive('df-36f69734-79d9-49ac-97d3-206b74b4a15a')\"\n",
              "              title=\"Convert this dataframe to an interactive table.\"\n",
              "              style=\"display:none;\">\n",
              "        \n",
              "  <svg xmlns=\"http://www.w3.org/2000/svg\" height=\"24px\"viewBox=\"0 0 24 24\"\n",
              "       width=\"24px\">\n",
              "    <path d=\"M0 0h24v24H0V0z\" fill=\"none\"/>\n",
              "    <path d=\"M18.56 5.44l.94 2.06.94-2.06 2.06-.94-2.06-.94-.94-2.06-.94 2.06-2.06.94zm-11 1L8.5 8.5l.94-2.06 2.06-.94-2.06-.94L8.5 2.5l-.94 2.06-2.06.94zm10 10l.94 2.06.94-2.06 2.06-.94-2.06-.94-.94-2.06-.94 2.06-2.06.94z\"/><path d=\"M17.41 7.96l-1.37-1.37c-.4-.4-.92-.59-1.43-.59-.52 0-1.04.2-1.43.59L10.3 9.45l-7.72 7.72c-.78.78-.78 2.05 0 2.83L4 21.41c.39.39.9.59 1.41.59.51 0 1.02-.2 1.41-.59l7.78-7.78 2.81-2.81c.8-.78.8-2.07 0-2.86zM5.41 20L4 18.59l7.72-7.72 1.47 1.35L5.41 20z\"/>\n",
              "  </svg>\n",
              "      </button>\n",
              "      \n",
              "  <style>\n",
              "    .colab-df-container {\n",
              "      display:flex;\n",
              "      flex-wrap:wrap;\n",
              "      gap: 12px;\n",
              "    }\n",
              "\n",
              "    .colab-df-convert {\n",
              "      background-color: #E8F0FE;\n",
              "      border: none;\n",
              "      border-radius: 50%;\n",
              "      cursor: pointer;\n",
              "      display: none;\n",
              "      fill: #1967D2;\n",
              "      height: 32px;\n",
              "      padding: 0 0 0 0;\n",
              "      width: 32px;\n",
              "    }\n",
              "\n",
              "    .colab-df-convert:hover {\n",
              "      background-color: #E2EBFA;\n",
              "      box-shadow: 0px 1px 2px rgba(60, 64, 67, 0.3), 0px 1px 3px 1px rgba(60, 64, 67, 0.15);\n",
              "      fill: #174EA6;\n",
              "    }\n",
              "\n",
              "    [theme=dark] .colab-df-convert {\n",
              "      background-color: #3B4455;\n",
              "      fill: #D2E3FC;\n",
              "    }\n",
              "\n",
              "    [theme=dark] .colab-df-convert:hover {\n",
              "      background-color: #434B5C;\n",
              "      box-shadow: 0px 1px 3px 1px rgba(0, 0, 0, 0.15);\n",
              "      filter: drop-shadow(0px 1px 2px rgba(0, 0, 0, 0.3));\n",
              "      fill: #FFFFFF;\n",
              "    }\n",
              "  </style>\n",
              "\n",
              "      <script>\n",
              "        const buttonEl =\n",
              "          document.querySelector('#df-36f69734-79d9-49ac-97d3-206b74b4a15a button.colab-df-convert');\n",
              "        buttonEl.style.display =\n",
              "          google.colab.kernel.accessAllowed ? 'block' : 'none';\n",
              "\n",
              "        async function convertToInteractive(key) {\n",
              "          const element = document.querySelector('#df-36f69734-79d9-49ac-97d3-206b74b4a15a');\n",
              "          const dataTable =\n",
              "            await google.colab.kernel.invokeFunction('convertToInteractive',\n",
              "                                                     [key], {});\n",
              "          if (!dataTable) return;\n",
              "\n",
              "          const docLinkHtml = 'Like what you see? Visit the ' +\n",
              "            '<a target=\"_blank\" href=https://colab.research.google.com/notebooks/data_table.ipynb>data table notebook</a>'\n",
              "            + ' to learn more about interactive tables.';\n",
              "          element.innerHTML = '';\n",
              "          dataTable['output_type'] = 'display_data';\n",
              "          await google.colab.output.renderOutput(dataTable, element);\n",
              "          const docLink = document.createElement('div');\n",
              "          docLink.innerHTML = docLinkHtml;\n",
              "          element.appendChild(docLink);\n",
              "        }\n",
              "      </script>\n",
              "    </div>\n",
              "  </div>\n",
              "  "
            ]
          },
          "metadata": {},
          "execution_count": 4
        }
      ]
    },
    {
      "cell_type": "code",
      "source": [
        "raw_df.info()"
      ],
      "metadata": {
        "id": "XjETZjwbX7Lo",
        "colab": {
          "base_uri": "https://localhost:8080/"
        },
        "outputId": "5e21441f-17ef-44ae-e9dc-c3bd74a9a4b1"
      },
      "execution_count": 5,
      "outputs": [
        {
          "output_type": "stream",
          "name": "stdout",
          "text": [
            "<class 'pandas.core.frame.DataFrame'>\n",
            "RangeIndex: 200 entries, 0 to 199\n",
            "Data columns (total 5 columns):\n",
            " #   Column                  Non-Null Count  Dtype \n",
            "---  ------                  --------------  ----- \n",
            " 0   CustomerID              200 non-null    int64 \n",
            " 1   Gender                  200 non-null    object\n",
            " 2   Age                     200 non-null    int64 \n",
            " 3   Annual Income (k$)      200 non-null    int64 \n",
            " 4   Spending Score (1-100)  200 non-null    int64 \n",
            "dtypes: int64(4), object(1)\n",
            "memory usage: 7.9+ KB\n"
          ]
        }
      ]
    },
    {
      "cell_type": "code",
      "source": [
        "raw_df.describe()"
      ],
      "metadata": {
        "colab": {
          "base_uri": "https://localhost:8080/",
          "height": 300
        },
        "id": "GZRlWOhe4nzT",
        "outputId": "890d4ccb-f696-4368-a1d8-e84073c639e6"
      },
      "execution_count": 6,
      "outputs": [
        {
          "output_type": "execute_result",
          "data": {
            "text/plain": [
              "       CustomerID         Age  Annual Income (k$)  Spending Score (1-100)\n",
              "count  200.000000  200.000000          200.000000              200.000000\n",
              "mean   100.500000   38.850000           60.560000               50.200000\n",
              "std     57.879185   13.969007           26.264721               25.823522\n",
              "min      1.000000   18.000000           15.000000                1.000000\n",
              "25%     50.750000   28.750000           41.500000               34.750000\n",
              "50%    100.500000   36.000000           61.500000               50.000000\n",
              "75%    150.250000   49.000000           78.000000               73.000000\n",
              "max    200.000000   70.000000          137.000000               99.000000"
            ],
            "text/html": [
              "\n",
              "  <div id=\"df-cee0a8d9-0310-4bcb-9a2f-3ce7ae26afe6\">\n",
              "    <div class=\"colab-df-container\">\n",
              "      <div>\n",
              "<style scoped>\n",
              "    .dataframe tbody tr th:only-of-type {\n",
              "        vertical-align: middle;\n",
              "    }\n",
              "\n",
              "    .dataframe tbody tr th {\n",
              "        vertical-align: top;\n",
              "    }\n",
              "\n",
              "    .dataframe thead th {\n",
              "        text-align: right;\n",
              "    }\n",
              "</style>\n",
              "<table border=\"1\" class=\"dataframe\">\n",
              "  <thead>\n",
              "    <tr style=\"text-align: right;\">\n",
              "      <th></th>\n",
              "      <th>CustomerID</th>\n",
              "      <th>Age</th>\n",
              "      <th>Annual Income (k$)</th>\n",
              "      <th>Spending Score (1-100)</th>\n",
              "    </tr>\n",
              "  </thead>\n",
              "  <tbody>\n",
              "    <tr>\n",
              "      <th>count</th>\n",
              "      <td>200.000000</td>\n",
              "      <td>200.000000</td>\n",
              "      <td>200.000000</td>\n",
              "      <td>200.000000</td>\n",
              "    </tr>\n",
              "    <tr>\n",
              "      <th>mean</th>\n",
              "      <td>100.500000</td>\n",
              "      <td>38.850000</td>\n",
              "      <td>60.560000</td>\n",
              "      <td>50.200000</td>\n",
              "    </tr>\n",
              "    <tr>\n",
              "      <th>std</th>\n",
              "      <td>57.879185</td>\n",
              "      <td>13.969007</td>\n",
              "      <td>26.264721</td>\n",
              "      <td>25.823522</td>\n",
              "    </tr>\n",
              "    <tr>\n",
              "      <th>min</th>\n",
              "      <td>1.000000</td>\n",
              "      <td>18.000000</td>\n",
              "      <td>15.000000</td>\n",
              "      <td>1.000000</td>\n",
              "    </tr>\n",
              "    <tr>\n",
              "      <th>25%</th>\n",
              "      <td>50.750000</td>\n",
              "      <td>28.750000</td>\n",
              "      <td>41.500000</td>\n",
              "      <td>34.750000</td>\n",
              "    </tr>\n",
              "    <tr>\n",
              "      <th>50%</th>\n",
              "      <td>100.500000</td>\n",
              "      <td>36.000000</td>\n",
              "      <td>61.500000</td>\n",
              "      <td>50.000000</td>\n",
              "    </tr>\n",
              "    <tr>\n",
              "      <th>75%</th>\n",
              "      <td>150.250000</td>\n",
              "      <td>49.000000</td>\n",
              "      <td>78.000000</td>\n",
              "      <td>73.000000</td>\n",
              "    </tr>\n",
              "    <tr>\n",
              "      <th>max</th>\n",
              "      <td>200.000000</td>\n",
              "      <td>70.000000</td>\n",
              "      <td>137.000000</td>\n",
              "      <td>99.000000</td>\n",
              "    </tr>\n",
              "  </tbody>\n",
              "</table>\n",
              "</div>\n",
              "      <button class=\"colab-df-convert\" onclick=\"convertToInteractive('df-cee0a8d9-0310-4bcb-9a2f-3ce7ae26afe6')\"\n",
              "              title=\"Convert this dataframe to an interactive table.\"\n",
              "              style=\"display:none;\">\n",
              "        \n",
              "  <svg xmlns=\"http://www.w3.org/2000/svg\" height=\"24px\"viewBox=\"0 0 24 24\"\n",
              "       width=\"24px\">\n",
              "    <path d=\"M0 0h24v24H0V0z\" fill=\"none\"/>\n",
              "    <path d=\"M18.56 5.44l.94 2.06.94-2.06 2.06-.94-2.06-.94-.94-2.06-.94 2.06-2.06.94zm-11 1L8.5 8.5l.94-2.06 2.06-.94-2.06-.94L8.5 2.5l-.94 2.06-2.06.94zm10 10l.94 2.06.94-2.06 2.06-.94-2.06-.94-.94-2.06-.94 2.06-2.06.94z\"/><path d=\"M17.41 7.96l-1.37-1.37c-.4-.4-.92-.59-1.43-.59-.52 0-1.04.2-1.43.59L10.3 9.45l-7.72 7.72c-.78.78-.78 2.05 0 2.83L4 21.41c.39.39.9.59 1.41.59.51 0 1.02-.2 1.41-.59l7.78-7.78 2.81-2.81c.8-.78.8-2.07 0-2.86zM5.41 20L4 18.59l7.72-7.72 1.47 1.35L5.41 20z\"/>\n",
              "  </svg>\n",
              "      </button>\n",
              "      \n",
              "  <style>\n",
              "    .colab-df-container {\n",
              "      display:flex;\n",
              "      flex-wrap:wrap;\n",
              "      gap: 12px;\n",
              "    }\n",
              "\n",
              "    .colab-df-convert {\n",
              "      background-color: #E8F0FE;\n",
              "      border: none;\n",
              "      border-radius: 50%;\n",
              "      cursor: pointer;\n",
              "      display: none;\n",
              "      fill: #1967D2;\n",
              "      height: 32px;\n",
              "      padding: 0 0 0 0;\n",
              "      width: 32px;\n",
              "    }\n",
              "\n",
              "    .colab-df-convert:hover {\n",
              "      background-color: #E2EBFA;\n",
              "      box-shadow: 0px 1px 2px rgba(60, 64, 67, 0.3), 0px 1px 3px 1px rgba(60, 64, 67, 0.15);\n",
              "      fill: #174EA6;\n",
              "    }\n",
              "\n",
              "    [theme=dark] .colab-df-convert {\n",
              "      background-color: #3B4455;\n",
              "      fill: #D2E3FC;\n",
              "    }\n",
              "\n",
              "    [theme=dark] .colab-df-convert:hover {\n",
              "      background-color: #434B5C;\n",
              "      box-shadow: 0px 1px 3px 1px rgba(0, 0, 0, 0.15);\n",
              "      filter: drop-shadow(0px 1px 2px rgba(0, 0, 0, 0.3));\n",
              "      fill: #FFFFFF;\n",
              "    }\n",
              "  </style>\n",
              "\n",
              "      <script>\n",
              "        const buttonEl =\n",
              "          document.querySelector('#df-cee0a8d9-0310-4bcb-9a2f-3ce7ae26afe6 button.colab-df-convert');\n",
              "        buttonEl.style.display =\n",
              "          google.colab.kernel.accessAllowed ? 'block' : 'none';\n",
              "\n",
              "        async function convertToInteractive(key) {\n",
              "          const element = document.querySelector('#df-cee0a8d9-0310-4bcb-9a2f-3ce7ae26afe6');\n",
              "          const dataTable =\n",
              "            await google.colab.kernel.invokeFunction('convertToInteractive',\n",
              "                                                     [key], {});\n",
              "          if (!dataTable) return;\n",
              "\n",
              "          const docLinkHtml = 'Like what you see? Visit the ' +\n",
              "            '<a target=\"_blank\" href=https://colab.research.google.com/notebooks/data_table.ipynb>data table notebook</a>'\n",
              "            + ' to learn more about interactive tables.';\n",
              "          element.innerHTML = '';\n",
              "          dataTable['output_type'] = 'display_data';\n",
              "          await google.colab.output.renderOutput(dataTable, element);\n",
              "          const docLink = document.createElement('div');\n",
              "          docLink.innerHTML = docLinkHtml;\n",
              "          element.appendChild(docLink);\n",
              "        }\n",
              "      </script>\n",
              "    </div>\n",
              "  </div>\n",
              "  "
            ]
          },
          "metadata": {},
          "execution_count": 6
        }
      ]
    },
    {
      "cell_type": "code",
      "source": [
        "bins = [18, 30, 50, 64, 70]\n",
        "labels = ['Gen Z', 'Gen Y', 'Generation X', 'Baby Boomers']\n",
        "raw_df['age_group'] = pd.cut(raw_df['Age'], bins=bins, labels=labels, right=False)\n",
        "print(raw_df)"
      ],
      "metadata": {
        "colab": {
          "base_uri": "https://localhost:8080/"
        },
        "id": "Q3_RIos_4xX_",
        "outputId": "466146bc-9489-4ea8-b8ab-cbea057ab80d"
      },
      "execution_count": 7,
      "outputs": [
        {
          "output_type": "stream",
          "name": "stdout",
          "text": [
            "     CustomerID  Gender  Age  Annual Income (k$)  Spending Score (1-100)  \\\n",
            "0             1    Male   19                  15                      39   \n",
            "1             2    Male   21                  15                      81   \n",
            "2             3  Female   20                  16                       6   \n",
            "3             4  Female   23                  16                      77   \n",
            "4             5  Female   31                  17                      40   \n",
            "..          ...     ...  ...                 ...                     ...   \n",
            "195         196  Female   35                 120                      79   \n",
            "196         197  Female   45                 126                      28   \n",
            "197         198    Male   32                 126                      74   \n",
            "198         199    Male   32                 137                      18   \n",
            "199         200    Male   30                 137                      83   \n",
            "\n",
            "    age_group  \n",
            "0       Gen Z  \n",
            "1       Gen Z  \n",
            "2       Gen Z  \n",
            "3       Gen Z  \n",
            "4       Gen Y  \n",
            "..        ...  \n",
            "195     Gen Y  \n",
            "196     Gen Y  \n",
            "197     Gen Y  \n",
            "198     Gen Y  \n",
            "199     Gen Y  \n",
            "\n",
            "[200 rows x 6 columns]\n"
          ]
        }
      ]
    },
    {
      "cell_type": "code",
      "source": [
        "x1 = raw_df['age_group']\n",
        "y1= raw_df['Spending Score (1-100)']\n",
        "sns.barplot(x=x1, y=y1)\n",
        "plt.show()"
      ],
      "metadata": {
        "colab": {
          "base_uri": "https://localhost:8080/",
          "height": 279
        },
        "id": "A6aQHuNK7iPy",
        "outputId": "f0b1453f-aa67-4368-fe15-d0fe5c49d580"
      },
      "execution_count": 8,
      "outputs": [
        {
          "output_type": "display_data",
          "data": {
            "text/plain": [
              "<Figure size 432x288 with 1 Axes>"
            ],
            "image/png": "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\n"
          },
          "metadata": {
            "needs_background": "light"
          }
        }
      ]
    },
    {
      "cell_type": "code",
      "source": [
        "x2 = raw_df['age_group']\n",
        "y2 = raw_df['Annual Income (k$)']\n",
        "sns.barplot(x=x2, y=y2)\n",
        "plt.show()"
      ],
      "metadata": {
        "colab": {
          "base_uri": "https://localhost:8080/",
          "height": 279
        },
        "id": "IZ2jRYJz-baW",
        "outputId": "8fa1a3bd-6c65-4a83-991e-c46ff7b0cb94"
      },
      "execution_count": 9,
      "outputs": [
        {
          "output_type": "display_data",
          "data": {
            "text/plain": [
              "<Figure size 432x288 with 1 Axes>"
            ],
            "image/png": "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\n"
          },
          "metadata": {
            "needs_background": "light"
          }
        }
      ]
    },
    {
      "cell_type": "code",
      "source": [
        "x3 = raw_df['Gender']\n",
        "y3 = raw_df['Annual Income (k$)']\n",
        "sns.barplot(x=x3, y=y3)\n",
        "plt.show()"
      ],
      "metadata": {
        "colab": {
          "base_uri": "https://localhost:8080/",
          "height": 281
        },
        "id": "zQXbUWaG-3XC",
        "outputId": "d1c578f0-afb8-4494-cda5-63a490a06c63"
      },
      "execution_count": 10,
      "outputs": [
        {
          "output_type": "display_data",
          "data": {
            "text/plain": [
              "<Figure size 432x288 with 1 Axes>"
            ],
            "image/png": "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\n"
          },
          "metadata": {
            "needs_background": "light"
          }
        }
      ]
    },
    {
      "cell_type": "code",
      "source": [
        "x4 = raw_df['Gender']\n",
        "y4 = raw_df['Spending Score (1-100)']\n",
        "sns.barplot(x=x4, y=y4)\n",
        "plt.show()"
      ],
      "metadata": {
        "colab": {
          "base_uri": "https://localhost:8080/",
          "height": 279
        },
        "id": "0P5Xn76M_IYP",
        "outputId": "147f1c1f-190b-4473-8b1f-052b66408f0b"
      },
      "execution_count": 11,
      "outputs": [
        {
          "output_type": "display_data",
          "data": {
            "text/plain": [
              "<Figure size 432x288 with 1 Axes>"
            ],
            "image/png": "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\n"
          },
          "metadata": {
            "needs_background": "light"
          }
        }
      ]
    },
    {
      "cell_type": "code",
      "source": [
        "plt.barh(raw_df['age_group'], raw_df['Annual Income (k$)'])\n",
        "plt.title('Annual Income')\n",
        "plt.ylabel('Age Group')\n",
        "plt.xlabel('Annual Income')\n",
        "plt.show()"
      ],
      "metadata": {
        "colab": {
          "base_uri": "https://localhost:8080/",
          "height": 295
        },
        "id": "xHeM0ZP4o-dd",
        "outputId": "cec85f22-5fd8-4baa-8c64-f9fd804ca440"
      },
      "execution_count": 14,
      "outputs": [
        {
          "output_type": "display_data",
          "data": {
            "text/plain": [
              "<Figure size 432x288 with 1 Axes>"
            ],
            "image/png": "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\n"
          },
          "metadata": {
            "needs_background": "light"
          }
        }
      ]
    },
    {
      "cell_type": "code",
      "source": [
        "raw_df['age_group'] = raw_df['age_group'].astype(str)"
      ],
      "metadata": {
        "id": "Kg7tJgyFpixH"
      },
      "execution_count": 13,
      "outputs": []
    }
  ]
}
